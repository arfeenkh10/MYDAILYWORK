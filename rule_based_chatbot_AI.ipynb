{
  "nbformat": 4,
  "nbformat_minor": 0,
  "metadata": {
    "colab": {
      "provenance": [],
      "authorship_tag": "ABX9TyMBs9WZf0XK7+fvZJaTLqyR"
    },
    "kernelspec": {
      "name": "python3",
      "display_name": "Python 3"
    },
    "language_info": {
      "name": "python"
    }
  },
  "cells": [
    {
      "cell_type": "code",
      "execution_count": 3,
      "metadata": {
        "id": "7aQuWQVU2Lt0"
      },
      "outputs": [],
      "source": [
        "# Simple Chatbot using if-else statements\n",
        "def chatbot_response(user_input):\n",
        "    user_input = user_input.lower()\n",
        "\n",
        "    # Simple responses based on keywords\n",
        "    if \"hello\" in user_input or \"hi\" in user_input:\n",
        "        return \"Hello! How can I assist you today?\"\n",
        "    elif \"how are you\" in user_input:\n",
        "        return \"I'm just a program, but I'm doing great! How about you?\"\n",
        "    elif \"help\" in user_input or \"support\" in user_input:\n",
        "        return \"Sure! I'm here to help. What do you need assistance with?\"\n",
        "    elif \"bye\" in user_input or \"goodbye\" in user_input:\n",
        "        return \"Goodbye! Have a great day!\"\n",
        "    elif \"your name\" in user_input:\n",
        "        return \"I'm a simple chatbot created to assist you!\"\n",
        "    elif \"weather\" in user_input:\n",
        "        return \"I can't check the weather yet, but you can use your favorite weather app!\"\n",
        "    elif \"thanks\" in user_input or \"thank you\" in user_input:\n",
        "        return \"You're welcome! Glad to help.\"\n",
        "    else:\n",
        "        return \"Sorry, I don't understand that. Can you please rephrase?\""
      ]
    },
    {
      "cell_type": "code",
      "source": [
        "def chat():\n",
        "    print(\"Chatbot: Hello! I'm here to help. Type 'bye' to exit.\")\n",
        "    while True:\n",
        "        user_input = input(\"You: \")\n",
        "        if user_input.lower() == \"bye\":\n",
        "            print(\"Chatbot: Goodbye!\")\n",
        "            break\n",
        "        response = chatbot_response(user_input)\n",
        "        print(f\"Chatbot: {response}\")"
      ],
      "metadata": {
        "id": "aAA-cNqZ4d6i"
      },
      "execution_count": 4,
      "outputs": []
    },
    {
      "cell_type": "code",
      "source": [
        "# Run the chatbot\n",
        "if __name__ == \"__main__\":\n",
        "    chat()"
      ],
      "metadata": {
        "colab": {
          "base_uri": "https://localhost:8080/"
        },
        "id": "W0On2HeK4t3x",
        "outputId": "7b2bc277-4aee-49c6-e634-f70bfc00a4ec"
      },
      "execution_count": 5,
      "outputs": [
        {
          "output_type": "stream",
          "name": "stdout",
          "text": [
            "Chatbot: Hello! I'm here to help. Type 'bye' to exit.\n",
            "You: Hello\n",
            "Chatbot: Hello! How can I assist you today?\n",
            "You: help\n",
            "Chatbot: Sure! I'm here to help. What do you need assistance with?\n",
            "You: Hi\n",
            "Chatbot: Hello! How can I assist you today?\n",
            "You: your name\n",
            "Chatbot: I'm a simple chatbot created to assist you!\n",
            "You: bye\n",
            "Chatbot: Goodbye!\n"
          ]
        }
      ]
    }
  ]
}